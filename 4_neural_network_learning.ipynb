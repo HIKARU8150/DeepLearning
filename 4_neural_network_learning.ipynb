{
 "cells": [
  {
   "cell_type": "markdown",
   "id": "5d43e0a0-cab5-4cfb-92d9-2f85bca67b33",
   "metadata": {},
   "source": [
    "# 4. ニューラルネットワークの学習"
   ]
  },
  {
   "cell_type": "markdown",
   "id": "ef6d3d4d-da9b-4506-97b9-cde0ea9db3db",
   "metadata": {},
   "source": [
    "Let's study neural network! ではなくニューラルネットワークにデータを与えて学習させるほう。"
   ]
  },
  {
   "cell_type": "markdown",
   "id": "ae873e46-536d-4068-954f-0a4051da3287",
   "metadata": {},
   "source": [
    "## 4.1関連：特徴量という考え方"
   ]
  },
  {
   "cell_type": "markdown",
   "id": "7cc1743c-d242-42a7-9279-1d59962dea00",
   "metadata": {},
   "source": [
    "[特徴量とは、一言で表すと、分析対象データの中の、予測の手掛かりとなる変数のことです。](https://www.sbbit.jp/article/cont1/76066)  \n",
    "データの何を使って機械学習を行うか、と学習するためにデータを加工していく作業をfeature engineeringともいう。例えばデータセットの中に変数A,変数B,変数Cがあるとして、全てを機械学習アルゴリズムにかけるか、あるいはAとBだけというように一部だけ使うか、あるいは新たな変数を作るか（A＋BーC＝D的な）といった選択を行い、より精度の良いモデルを作ること。  \n",
    "  \n",
    "一般的な機械学習はデータ→特徴量を決める→形の変わったデータ→機械学習の流れ。  \n",
    "  \n",
    "一方でディープラーニングではその特徴量エンジニアリングがいらない。データをそのまま入力すると勝手に特徴量を見つける。すごい。"
   ]
  },
  {
   "cell_type": "code",
   "execution_count": null,
   "id": "733aa139-f303-4bc6-ba93-34d448541344",
   "metadata": {},
   "outputs": [],
   "source": []
  }
 ],
 "metadata": {
  "kernelspec": {
   "display_name": "Python 3 (ipykernel)",
   "language": "python",
   "name": "python3"
  },
  "language_info": {
   "codemirror_mode": {
    "name": "ipython",
    "version": 3
   },
   "file_extension": ".py",
   "mimetype": "text/x-python",
   "name": "python",
   "nbconvert_exporter": "python",
   "pygments_lexer": "ipython3",
   "version": "3.10.9"
  }
 },
 "nbformat": 4,
 "nbformat_minor": 5
}
